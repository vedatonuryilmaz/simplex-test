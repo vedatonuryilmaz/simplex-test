{
 "cells": [
  {
   "cell_type": "markdown",
   "id": "7ec54aee",
   "metadata": {},
   "source": [
    "## Precompute metrics\n",
    "Precompute mean and median quantile ranks and z-scores for all tissue types with cancer, embryonic, and adult samples. This will provide a smoother experience with the visualizations."
   ]
  },
  {
   "cell_type": "code",
   "execution_count": null,
   "id": "cf519db4",
   "metadata": {},
   "outputs": [],
   "source": [
    "from analysis import precompute_metrics, get_available_tissues\n",
    "\n",
    "tissues = get_available_tissues()\n",
    "precompute_metrics(tissues=tissues)\n"
   ]
  },
  {
   "cell_type": "markdown",
   "id": "d52a511b",
   "metadata": {},
   "source": [
    "## Generate simplex scatterplots"
   ]
  },
  {
   "cell_type": "code",
   "execution_count": 1,
   "id": "fa53461e",
   "metadata": {},
   "outputs": [
    {
     "data": {
      "application/vnd.jupyter.widget-view+json": {
       "model_id": "1c634529e7ba4500a23fa1148c6b8a7d",
       "version_major": 2,
       "version_minor": 0
      },
      "text/plain": [
       "VBox(children=(HBox(children=(VBox(children=(Dropdown(description='Tissue:', options=('adrenal gland', 'brain'…"
      ]
     },
     "metadata": {},
     "output_type": "display_data"
    }
   ],
   "source": [
    "from widget import create_interactive_widget\n",
    "\n",
    "# Create and display the interactive widget\n",
    "widget_layout = create_interactive_widget()\n",
    "display(widget_layout)"
   ]
  }
 ],
 "metadata": {
  "kernelspec": {
   "display_name": "simplex-scatter",
   "language": "python",
   "name": "python3"
  },
  "language_info": {
   "codemirror_mode": {
    "name": "ipython",
    "version": 3
   },
   "file_extension": ".py",
   "mimetype": "text/x-python",
   "name": "python",
   "nbconvert_exporter": "python",
   "pygments_lexer": "ipython3",
   "version": "3.11.12"
  }
 },
 "nbformat": 4,
 "nbformat_minor": 5
}
